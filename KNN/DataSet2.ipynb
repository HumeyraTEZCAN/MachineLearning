{
 "cells": [
  {
   "cell_type": "code",
   "execution_count": 1,
   "id": "8a56d69f",
   "metadata": {},
   "outputs": [],
   "source": [
    "from sklearn.datasets import make_classification\n",
    "from sklearn.datasets import make_blobs"
   ]
  },
  {
   "cell_type": "code",
   "execution_count": 2,
   "id": "7e4ba16b",
   "metadata": {},
   "outputs": [],
   "source": [
    "#We created a dataset with two features, two classes and 1000 samples.\n",
    "traindata, trainlabel= make_classification(n_samples=1000, n_features=2,n_informative=2, n_redundant=0, n_repeated=0, n_classes=2)"
   ]
  },
  {
   "cell_type": "code",
   "execution_count": 3,
   "id": "1790df04",
   "metadata": {},
   "outputs": [
    {
     "name": "stdout",
     "output_type": "stream",
     "text": [
      "OUR DATASET 2\n",
      "           X1        X2  target\n",
      "0   -1.277849  0.983165       1\n",
      "1   -0.966967 -1.153689       0\n",
      "2    1.411857 -1.092621       0\n",
      "3    1.068380  1.019345       1\n",
      "4   -0.185272 -0.980243       0\n",
      "..        ...       ...     ...\n",
      "995  0.893315  0.923059       1\n",
      "996  1.621950  1.261511       1\n",
      "997 -0.048808 -1.724477       0\n",
      "998  1.521461  1.168622       1\n",
      "999  0.654738  0.906990       1\n",
      "\n",
      "[1000 rows x 3 columns]\n"
     ]
    }
   ],
   "source": [
    "import pandas as pd\n",
    "from sklearn.model_selection import train_test_split\n",
    "#Here we are printing our dataset.\n",
    "\n",
    "print(\"OUR DATASET 2\")\n",
    "dataset = pd.DataFrame({'X1': traindata[:, 0], 'X2': traindata[:, 1], 'target': trainlabel[:] })\n",
    "print(dataset)"
   ]
  },
  {
   "cell_type": "code",
   "execution_count": 4,
   "id": "acbb912d",
   "metadata": {},
   "outputs": [
    {
     "name": "stdout",
     "output_type": "stream",
     "text": [
      "[[-0.51259996  1.54119353]\n",
      " [-1.02811142 -0.99883337]\n",
      " [ 1.27179072 -1.46690677]\n",
      " ...\n",
      " [-0.38579459 -1.81945904]\n",
      " [ 1.06042031  0.95218589]\n",
      " [ 0.71463067  1.22178663]]\n"
     ]
    }
   ],
   "source": [
    "import numpy as np\n",
    "noise = np.random.normal(0, 0.5, traindata.shape)\n",
    "noiseData = traindata + noise\n",
    "print(noiseData)"
   ]
  },
  {
   "cell_type": "code",
   "execution_count": 5,
   "id": "cd59ccca",
   "metadata": {},
   "outputs": [
    {
     "name": "stdout",
     "output_type": "stream",
     "text": [
      "Information about splitted dataset\n",
      "(670, 2) (330, 2) (670,) (330,)\n"
     ]
    }
   ],
   "source": [
    "#We are splitting our dataset as 0.33% test data, 0.67% train data.\n",
    "\n",
    "print(\"Information about splitted dataset\")\n",
    "X_train, X_test, y_train, y_test = train_test_split(noiseData, trainlabel, test_size=0.33)\n",
    "print(X_train.shape, X_test.shape, y_train.shape, y_test.shape)"
   ]
  },
  {
   "cell_type": "code",
   "execution_count": 6,
   "id": "98986aea",
   "metadata": {},
   "outputs": [
    {
     "name": "stdout",
     "output_type": "stream",
     "text": [
      "Best key for our second dataset:  15\n"
     ]
    }
   ],
   "source": [
    "#Finding best K value in range 1 to 33 with incrementing 2 by 2.\n",
    "\n",
    "from sklearn import metrics\n",
    "from sklearn.neighbors import KNeighborsClassifier\n",
    "\n",
    "k_range =range(1, 33, 2)\n",
    "\n",
    "testing_accuracy_scores=[]\n",
    "training_accuracy_scores=[]\n",
    "\n",
    "best_k= 0\n",
    "max_val =0\n",
    "\n",
    "for k in k_range:\n",
    "        knn =KNeighborsClassifier(n_neighbors=k)\n",
    "        knn.fit(X_train, y_train)\n",
    "        \n",
    "        y_training_pred =knn.predict(X_train)\n",
    "        train_score= metrics.accuracy_score(y_train, y_training_pred)\n",
    "        training_accuracy_scores.append(train_score)\n",
    "        \n",
    "        y_test_pred =knn.predict(X_test)\n",
    "        test_score= metrics.accuracy_score(y_test, y_test_pred)\n",
    "        testing_accuracy_scores.append(test_score)\n",
    "        \n",
    "        if test_score > max_val:\n",
    "            max_val =test_score;\n",
    "            best_k =k;\n",
    "\n",
    "#Our best key value            \n",
    "print(\"Best key for our second dataset: \", best_k)"
   ]
  },
  {
   "cell_type": "code",
   "execution_count": 7,
   "id": "9d728efa",
   "metadata": {},
   "outputs": [
    {
     "name": "stdout",
     "output_type": "stream",
     "text": [
      "Training-Testing Accurracy graph according to K value\n"
     ]
    },
    {
     "data": {
      "image/png": "[encoded data removed]",
      "text/plain": [
       "<Figure size 432x288 with 1 Axes>"
      ]
     },
     "metadata": {
      "needs_background": "light"
     },
     "output_type": "display_data"
    }
   ],
   "source": [
    "import matplotlib.pyplot as plt\n",
    "%matplotlib inline\n",
    "\n",
    "#We are plotting our training-testing accurracy graph\n",
    "print(\"Training-Testing Accurracy graph according to K value\")\n",
    "plt.plot(k_range, training_accuracy_scores, label=\"Training Accuracy\")\n",
    "plt.plot(k_range, testing_accuracy_scores,color=\"red\", label=\"Testing Accuracy\")\n",
    "plt.xlabel(\"K\")\n",
    "plt.ylabel(\"Accuracy\")\n",
    "plt.legend()\n",
    "plt.show()"
   ]
  },
  {
   "cell_type": "code",
   "execution_count": 8,
   "id": "c53babe7",
   "metadata": {},
   "outputs": [
    {
     "name": "stdout",
     "output_type": "stream",
     "text": [
      "Training accuracy according to best K:  0.9522388059701492\n"
     ]
    }
   ],
   "source": [
    "#Training accuracy according to best K\n",
    "\n",
    "knn_model=KNeighborsClassifier(n_neighbors= best_k)\n",
    "knn_model.fit(X_train, y_train)\n",
    "\n",
    "y_train_pred= knn_model.predict(X_train)\n",
    "print(\"Training accuracy according to best K: \", metrics.accuracy_score(y_train, y_train_pred))"
   ]
  },
  {
   "cell_type": "code",
   "execution_count": 9,
   "id": "5ae24eac",
   "metadata": {},
   "outputs": [
    {
     "name": "stdout",
     "output_type": "stream",
     "text": [
      "Testing accuracy for best K:  0.9484848484848485\n"
     ]
    }
   ],
   "source": [
    "#Test accuracy for best K\n",
    "\n",
    "y_test_pred = knn_model.predict(X_test)\n",
    "testAccuracy =metrics.accuracy_score(y_test, y_test_pred)\n",
    "print(\"Testing accuracy for best K: \", testAccuracy)\n"
   ]
  },
  {
   "cell_type": "markdown",
   "id": "c5455e0a",
   "metadata": {},
   "source": [
    "## COMMENTS\n",
    "### While we are choosing best k values in dataset, we look at the places with the highest testing accurracy (testing accurracy is more important than training accurracy). In this dataset highest testing accurracy is on the k=15. So, the best k is 15.\n",
    "### We don't like overfitting and we add noise to our dataset for avoiding the overfitting. Flexibility and k values are inversely proportional. For our best k, flexibility is not low, not high. It means that our graph is bestfitting, our data is not completely smooth, not completely scattered and we have low bias - low variance. Low bias - low variance is our aim.\n",
    "### Training and testing accurracy values are very close to each other. This is due to the random distribution of data."
   ]
  }
 ],
 "metadata": {
  "kernelspec": {
   "display_name": "Python 3",
   "language": "python",
   "name": "python3"
  },
  "language_info": {
   "codemirror_mode": {
    "name": "ipython",
    "version": 3
   },
   "file_extension": ".py",
   "mimetype": "text/x-python",
   "name": "python",
   "nbconvert_exporter": "python",
   "pygments_lexer": "ipython3",
   "version": "3.8.8"
  }
 },
 "nbformat": 4,
 "nbformat_minor": 5
}
