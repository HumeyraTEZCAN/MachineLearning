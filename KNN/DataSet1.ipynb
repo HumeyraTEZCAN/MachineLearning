{
 "cells": [
  {
   "cell_type": "code",
   "execution_count": 1,
   "id": "8a56d69f",
   "metadata": {},
   "outputs": [],
   "source": [
    "from sklearn.datasets import make_classification\n",
    "from sklearn.datasets import make_blobs"
   ]
  },
  {
   "cell_type": "code",
   "execution_count": 2,
   "id": "7e4ba16b",
   "metadata": {},
   "outputs": [],
   "source": [
    "#We created a dataset with two features, two classes and 1000 samples.\n",
    "traindata, trainlabel= make_classification(n_samples=1000, n_features=2,n_informative=2, n_redundant=0, n_repeated=0, n_classes=2)"
   ]
  },
  {
   "cell_type": "code",
   "execution_count": 3,
   "id": "1790df04",
   "metadata": {},
   "outputs": [
    {
     "name": "stdout",
     "output_type": "stream",
     "text": [
      "OUR DATASET 1\n",
      "           X1        X2  target\n",
      "0   -1.350347 -0.906552       0\n",
      "1   -2.151030 -0.706660       0\n",
      "2    2.952399  0.686954       1\n",
      "3    1.155077 -1.677028       1\n",
      "4    0.074347 -0.682010       1\n",
      "..        ...       ...     ...\n",
      "995 -0.023068  0.008506       1\n",
      "996 -0.814562  1.262166       0\n",
      "997 -0.127370  1.788364       1\n",
      "998  0.507103 -1.395281       0\n",
      "999 -0.786108  0.493249       0\n",
      "\n",
      "[1000 rows x 3 columns]\n"
     ]
    }
   ],
   "source": [
    "import pandas as pd\n",
    "from sklearn.model_selection import train_test_split\n",
    "#Here we are printing our dataset.\n",
    "print(\"OUR DATASET 1\")\n",
    "dataset = pd.DataFrame({'X1': traindata[:, 0], 'X2': traindata[:, 1], 'target': trainlabel[:] })\n",
    "print(dataset)\n"
   ]
  },
  {
   "cell_type": "code",
   "execution_count": 4,
   "id": "acbb912d",
   "metadata": {},
   "outputs": [
    {
     "name": "stdout",
     "output_type": "stream",
     "text": [
      "[[-2.69276715 -0.53378683]\n",
      " [-1.97201771 -0.51284725]\n",
      " [ 2.75401708  0.17582827]\n",
      " ...\n",
      " [-0.27391878  1.11994695]\n",
      " [ 0.64804642 -1.77353435]\n",
      " [-0.64747193  0.30407888]]\n"
     ]
    }
   ],
   "source": [
    "import numpy as np\n",
    "noise = np.random.normal(0, 0.5, traindata.shape)\n",
    "noiseData = traindata + noise\n",
    "print(noiseData)"
   ]
  },
  {
   "cell_type": "code",
   "execution_count": 5,
   "id": "cd59ccca",
   "metadata": {},
   "outputs": [
    {
     "name": "stdout",
     "output_type": "stream",
     "text": [
      "Information about splitted dataset\n",
      "(670, 2) (330, 2) (670,) (330,)\n"
     ]
    }
   ],
   "source": [
    "#We are splitting our dataset as 0.33% test data, 0.67% train data.\n",
    "\n",
    "print(\"Information about splitted dataset\")\n",
    "X_train, X_test, y_train, y_test = train_test_split(noiseData, trainlabel, test_size=0.33)\n",
    "print(X_train.shape, X_test.shape, y_train.shape, y_test.shape)"
   ]
  },
  {
   "cell_type": "code",
   "execution_count": 6,
   "id": "98986aea",
   "metadata": {},
   "outputs": [
    {
     "name": "stdout",
     "output_type": "stream",
     "text": [
      "Best key for our first dataset:  29\n"
     ]
    }
   ],
   "source": [
    "#Finding best K value in range 1 to 33 with incrementing 2 by 2.\n",
    "\n",
    "from sklearn import metrics\n",
    "from sklearn.neighbors import KNeighborsClassifier\n",
    "\n",
    "k_range =range(1, 33, 2)\n",
    "\n",
    "testing_accuracy_scores=[]\n",
    "training_accuracy_scores=[]\n",
    "\n",
    "best_k= 0\n",
    "max_val =0\n",
    "\n",
    "for k in k_range:\n",
    "        knn =KNeighborsClassifier(n_neighbors=k)\n",
    "        knn.fit(X_train, y_train)\n",
    "        \n",
    "        y_training_pred =knn.predict(X_train)\n",
    "        train_score= metrics.accuracy_score(y_train, y_training_pred)\n",
    "        training_accuracy_scores.append(train_score)\n",
    "        \n",
    "        y_test_pred =knn.predict(X_test)\n",
    "        test_score= metrics.accuracy_score(y_test, y_test_pred)\n",
    "        testing_accuracy_scores.append(test_score)\n",
    "        \n",
    "        if test_score > max_val:\n",
    "            max_val =test_score;\n",
    "            best_k =k;\n",
    "\n",
    "#Our best key value            \n",
    "print(\"Best key for our first dataset: \", best_k)"
   ]
  },
  {
   "cell_type": "code",
   "execution_count": 7,
   "id": "9d728efa",
   "metadata": {},
   "outputs": [
    {
     "name": "stdout",
     "output_type": "stream",
     "text": [
      "Training-Testing Accurracy graph according to K value\n"
     ]
    },
    {
     "data": {
      "image/png": "[encoded data removed]",
      "text/plain": [
       "<Figure size 432x288 with 1 Axes>"
      ]
     },
     "metadata": {
      "needs_background": "light"
     },
     "output_type": "display_data"
    }
   ],
   "source": [
    "import matplotlib.pyplot as plt\n",
    "%matplotlib inline\n",
    "\n",
    "#We are plotting our training-testing accurracy graph\n",
    "print(\"Training-Testing Accurracy graph according to K value\")\n",
    "plt.plot(k_range, training_accuracy_scores, label=\"Training Accuracy\")\n",
    "plt.plot(k_range, testing_accuracy_scores,color=\"red\", label=\"Testing Accuracy\")\n",
    "plt.xlabel(\"K\")\n",
    "plt.ylabel(\"Accuracy\")\n",
    "plt.legend()\n",
    "plt.show()"
   ]
  },
  {
   "cell_type": "code",
   "execution_count": 8,
   "id": "c53babe7",
   "metadata": {},
   "outputs": [
    {
     "name": "stdout",
     "output_type": "stream",
     "text": [
      "Training accuracy according to best K:  0.8746268656716418\n"
     ]
    }
   ],
   "source": [
    "#Training accuracy according to best K\n",
    "\n",
    "knn_model=KNeighborsClassifier(n_neighbors= best_k)\n",
    "knn_model.fit(X_train, y_train)\n",
    "\n",
    "y_train_pred= knn_model.predict(X_train)\n",
    "print(\"Training accuracy according to best K: \", metrics.accuracy_score(y_train, y_train_pred))"
   ]
  },
  {
   "cell_type": "code",
   "execution_count": 9,
   "id": "5ae24eac",
   "metadata": {},
   "outputs": [
    {
     "name": "stdout",
     "output_type": "stream",
     "text": [
      "Testing accuracy for best K:  0.8575757575757575\n"
     ]
    }
   ],
   "source": [
    "#Test accuracy for best K\n",
    "\n",
    "y_test_pred = knn_model.predict(X_test)\n",
    "testAccuracy =metrics.accuracy_score(y_test, y_test_pred)\n",
    "print(\"Testing accuracy for best K: \", testAccuracy)\n"
   ]
  },
  {
   "cell_type": "markdown",
   "id": "c5455e0a",
   "metadata": {},
   "source": [
    "## COMMENTS\n",
    "### While we are choosing best k values in dataset, we look at the places with the highest testing accurracy (testing accurracy is more important than training accurracy). In this dataset highest testing accurracy is on the k=29. So, the best k is 29.\n",
    "### We don't like overfitting and we add noise to our dataset for avoiding the overfitting. Flexibility and k values are inversely proportional. For our best k, flexibility is very low. It means that our graph is very far form overfitting (it is close to underfitting), our data is smooth and we have high bias - low variance. High bias - low variance is not our aim (our aim is low bias - low variance).\n",
    "### Training and testing accurracy values are very close to each other. This is due to the random distribution of data."
   ]
  }
 ],
 "metadata": {
  "kernelspec": {
   "display_name": "Python 3",
   "language": "python",
   "name": "python3"
  },
  "language_info": {
   "codemirror_mode": {
    "name": "ipython",
    "version": 3
   },
   "file_extension": ".py",
   "mimetype": "text/x-python",
   "name": "python",
   "nbconvert_exporter": "python",
   "pygments_lexer": "ipython3",
   "version": "3.8.8"
  }
 },
 "nbformat": 4,
 "nbformat_minor": 5
}
