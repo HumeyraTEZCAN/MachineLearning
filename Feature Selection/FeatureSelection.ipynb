{
 "cells": [
  {
   "cell_type": "markdown",
   "id": "880d1d31",
   "metadata": {},
   "source": [
    "In algorithmic approach, we should use forward selection in this problem for efficiency. \n",
    "Because p is very big => we cannot use subset selection and p is not greater than n => we cannot use backward selection.\n",
    "\n",
    "In Shrinkage Method, we want to select relevant features to obtain true target values.\n",
    "\n",
    "In mathematical approach, we should use LASSO.\n",
    "Because we only need to find 2 features among 10 features. In other words, we should eliminate 8 features among 10. In Ridge and Elastic-Net, weights of the features approaches to zero, but they cannot be zero rapidly. If we want to eliminate some features, weights should be rapidly zero and this method is the LASSO.\n",
    "\n",
    "In Elastic-Net (mathematical approach), we can eliminate 8 features among 10 with only lambda=1. But in this case, ridge term coefficient (1-lambda) will be equal to zero and it will equal to the LASSO. \n",
    "\n",
    "\n",
    "In the algorithmic approaches, we calculate feature performances and select best performance. Except for the features of the best performance, the weights of the rest are zero.\n",
    "\n",
    "In mathematical approaches, we calculate all weights of the features, then we choose the best performance.\n"
   ]
  },
  {
   "cell_type": "markdown",
   "id": "52c55c1d",
   "metadata": {},
   "source": [
    "# Load data and visualize"
   ]
  },
  {
   "cell_type": "code",
   "execution_count": 1,
   "id": "3a5d7709",
   "metadata": {},
   "outputs": [],
   "source": [
    "# importing libraries\n",
    "import numpy as np\n",
    "import pandas as pd\n",
    "from sklearn.metrics import mean_squared_error\n",
    "from sklearn.preprocessing import StandardScaler\n",
    "from sklearn import linear_model\n",
    "from matplotlib import pyplot\n",
    "import matplotlib.pyplot as plt"
   ]
  },
  {
   "cell_type": "code",
   "execution_count": 2,
   "id": "18eafa10",
   "metadata": {},
   "outputs": [],
   "source": [
    "# load data\n",
    "data = pd.read_csv(\"data.csv\")"
   ]
  },
  {
   "cell_type": "code",
   "execution_count": 3,
   "id": "87223074",
   "metadata": {},
   "outputs": [
    {
     "data": {
      "text/html": [
       "<div>\n",
       "<style scoped>\n",
       "    .dataframe tbody tr th:only-of-type {\n",
       "        vertical-align: middle;\n",
       "    }\n",
       "\n",
       "    .dataframe tbody tr th {\n",
       "        vertical-align: top;\n",
       "    }\n",
       "\n",
       "    .dataframe thead th {\n",
       "        text-align: right;\n",
       "    }\n",
       "</style>\n",
       "<table border=\"1\" class=\"dataframe\">\n",
       "  <thead>\n",
       "    <tr style=\"text-align: right;\">\n",
       "      <th></th>\n",
       "      <th>x</th>\n",
       "      <th>y</th>\n",
       "    </tr>\n",
       "  </thead>\n",
       "  <tbody>\n",
       "    <tr>\n",
       "      <th>0</th>\n",
       "      <td>0.725708</td>\n",
       "      <td>8.041778</td>\n",
       "    </tr>\n",
       "    <tr>\n",
       "      <th>1</th>\n",
       "      <td>-0.390810</td>\n",
       "      <td>-10.459451</td>\n",
       "    </tr>\n",
       "    <tr>\n",
       "      <th>2</th>\n",
       "      <td>-1.769738</td>\n",
       "      <td>-25.287686</td>\n",
       "    </tr>\n",
       "    <tr>\n",
       "      <th>3</th>\n",
       "      <td>1.923968</td>\n",
       "      <td>-9.023523</td>\n",
       "    </tr>\n",
       "    <tr>\n",
       "      <th>4</th>\n",
       "      <td>0.028524</td>\n",
       "      <td>10.035387</td>\n",
       "    </tr>\n",
       "    <tr>\n",
       "      <th>...</th>\n",
       "      <td>...</td>\n",
       "      <td>...</td>\n",
       "    </tr>\n",
       "    <tr>\n",
       "      <th>995</th>\n",
       "      <td>-1.236013</td>\n",
       "      <td>-17.197747</td>\n",
       "    </tr>\n",
       "    <tr>\n",
       "      <th>996</th>\n",
       "      <td>0.248180</td>\n",
       "      <td>9.876812</td>\n",
       "    </tr>\n",
       "    <tr>\n",
       "      <th>997</th>\n",
       "      <td>0.782871</td>\n",
       "      <td>7.407568</td>\n",
       "    </tr>\n",
       "    <tr>\n",
       "      <th>998</th>\n",
       "      <td>-0.319772</td>\n",
       "      <td>-11.087141</td>\n",
       "    </tr>\n",
       "    <tr>\n",
       "      <th>999</th>\n",
       "      <td>0.670464</td>\n",
       "      <td>7.042504</td>\n",
       "    </tr>\n",
       "  </tbody>\n",
       "</table>\n",
       "<p>1000 rows × 2 columns</p>\n",
       "</div>"
      ],
      "text/plain": [
       "            x          y\n",
       "0    0.725708   8.041778\n",
       "1   -0.390810 -10.459451\n",
       "2   -1.769738 -25.287686\n",
       "3    1.923968  -9.023523\n",
       "4    0.028524  10.035387\n",
       "..        ...        ...\n",
       "995 -1.236013 -17.197747\n",
       "996  0.248180   9.876812\n",
       "997  0.782871   7.407568\n",
       "998 -0.319772 -11.087141\n",
       "999  0.670464   7.042504\n",
       "\n",
       "[1000 rows x 2 columns]"
      ]
     },
     "execution_count": 3,
     "metadata": {},
     "output_type": "execute_result"
    }
   ],
   "source": [
    "data"
   ]
  },
  {
   "cell_type": "code",
   "execution_count": 4,
   "id": "236c6b61",
   "metadata": {},
   "outputs": [
    {
     "name": "stdout",
     "output_type": "stream",
     "text": [
      "<class 'pandas.core.frame.DataFrame'>\n",
      "RangeIndex: 1000 entries, 0 to 999\n",
      "Data columns (total 2 columns):\n",
      " #   Column  Non-Null Count  Dtype  \n",
      "---  ------  --------------  -----  \n",
      " 0   x       1000 non-null   float64\n",
      " 1   y       1000 non-null   float64\n",
      "dtypes: float64(2)\n",
      "memory usage: 15.8 KB\n"
     ]
    }
   ],
   "source": [
    "data.info()"
   ]
  },
  {
   "cell_type": "code",
   "execution_count": 5,
   "id": "a354e4eb",
   "metadata": {},
   "outputs": [],
   "source": [
    "X = pd.DataFrame(data.x)\n",
    "y = data.y"
   ]
  },
  {
   "cell_type": "code",
   "execution_count": 6,
   "id": "0927c973",
   "metadata": {
    "scrolled": true
   },
   "outputs": [
    {
     "data": {
      "image/png": "[encoded data removed]",
      "text/plain": [
       "<Figure size 720x360 with 1 Axes>"
      ]
     },
     "metadata": {
      "needs_background": "light"
     },
     "output_type": "display_data"
    }
   ],
   "source": [
    "# visualize data\n",
    "plt.figure(figsize=(10, 5))\n",
    "plt.scatter(X, y, s = 1)\n",
    "plt.xlabel('x', fontsize=16)\n",
    "plt.ylabel('y', fontsize=16)\n",
    "plt.axis([-4, 3, -70, 20])\n",
    "plt.grid(True)\n",
    "plt.show()"
   ]
  },
  {
   "cell_type": "code",
   "execution_count": 7,
   "id": "97fabdf4",
   "metadata": {},
   "outputs": [],
   "source": [
    "# xArray contains possible features\n",
    "xArray = np.c_[np.ones((len(X),1)), X, X**2, X**3, X**4, np.abs(X), np.sign(X), np.sin(X), np.cos(X), np.exp(X)]"
   ]
  },
  {
   "cell_type": "code",
   "execution_count": 8,
   "id": "60a0aa99",
   "metadata": {},
   "outputs": [
    {
     "data": {
      "text/plain": [
       "(1000, 10)"
      ]
     },
     "execution_count": 8,
     "metadata": {},
     "output_type": "execute_result"
    }
   ],
   "source": [
    "xArray.shape"
   ]
  },
  {
   "cell_type": "code",
   "execution_count": 9,
   "id": "3271d95e",
   "metadata": {},
   "outputs": [
    {
     "data": {
      "text/plain": [
       "array([[ 1.        ,  0.72570771,  0.52665168, ...,  0.663665  ,\n",
       "         0.74802993,  2.06619284],\n",
       "       [ 1.        , -0.39080996,  0.15273242, ..., -0.38093743,\n",
       "         0.92460082,  0.67650871],\n",
       "       [ 1.        , -1.76973797,  3.13197249, ..., -0.98027629,\n",
       "        -0.19763196,  0.17037763],\n",
       "       ...,\n",
       "       [ 1.        ,  0.78287146,  0.61288772, ...,  0.70531787,\n",
       "         0.70889117,  2.18774527],\n",
       "       [ 1.        , -0.31977181,  0.10225401, ..., -0.31434995,\n",
       "         0.94930717,  0.72631475],\n",
       "       [ 1.        ,  0.67046389,  0.44952183, ...,  0.62134953,\n",
       "         0.78353351,  1.95514408]])"
      ]
     },
     "execution_count": 9,
     "metadata": {},
     "output_type": "execute_result"
    }
   ],
   "source": [
    "xArray"
   ]
  },
  {
   "cell_type": "code",
   "execution_count": 10,
   "id": "c0b6a682",
   "metadata": {},
   "outputs": [
    {
     "data": {
      "text/plain": [
       "array([[ 0.72570771,  0.52665168,  0.38219518, ...,  0.663665  ,\n",
       "         0.74802993,  2.06619284],\n",
       "       [-0.39080996,  0.15273242, -0.05968935, ..., -0.38093743,\n",
       "         0.92460082,  0.67650871],\n",
       "       [-1.76973797,  3.13197249, -5.54277065, ..., -0.98027629,\n",
       "        -0.19763196,  0.17037763],\n",
       "       ...,\n",
       "       [ 0.78287146,  0.61288772,  0.4798123 , ...,  0.70531787,\n",
       "         0.70889117,  2.18774527],\n",
       "       [-0.31977181,  0.10225401, -0.03269795, ..., -0.31434995,\n",
       "         0.94930717,  0.72631475],\n",
       "       [ 0.67046389,  0.44952183,  0.30138815, ...,  0.62134953,\n",
       "         0.78353351,  1.95514408]])"
      ]
     },
     "execution_count": 10,
     "metadata": {},
     "output_type": "execute_result"
    }
   ],
   "source": [
    "X_b = np.c_[X, X**2, X**3, X**4, np.abs(X), np.sign(X), np.sin(X), np.cos(X), np.exp(X)]\n",
    "X_b"
   ]
  },
  {
   "cell_type": "code",
   "execution_count": 11,
   "id": "3fd1859e",
   "metadata": {},
   "outputs": [
    {
     "name": "stdout",
     "output_type": "stream",
     "text": [
      "[beta0, beta1, beta2] =  [-4.15924343e-01 -4.83295158e+00  8.03059342e-02  1.62479744e-03\n",
      " -1.50203079e-01  1.00570534e+01  5.13368879e-01  1.55782297e-01\n",
      " -9.15294369e-02]\n"
     ]
    }
   ],
   "source": [
    "w_estimate = np.linalg.inv(X_b.T.dot(X_b)).dot(X_b.T).dot(y)\n",
    "print('[beta0, beta1, beta2] = ', w_estimate)"
   ]
  },
  {
   "cell_type": "code",
   "execution_count": 12,
   "id": "6f7efddf",
   "metadata": {},
   "outputs": [
    {
     "data": {
      "text/plain": [
       "array([ 7.40018877e+00, -1.08095562e+01, -2.57022725e+01, -8.52688213e+00,\n",
       "        1.01131571e+01,  1.00968133e+01, -1.44439449e+01, -1.05339898e+01,\n",
       "       -1.11544029e+01, -1.00588443e+01,  1.01146038e+01, -1.35425521e+01,\n",
       "       -1.02042188e+01, -1.19585038e+01,  9.51813413e+00,  6.48146835e+00,\n",
       "       -1.16895743e+01,  2.30454458e+00,  1.00298084e+01, -1.23901449e+01,\n",
       "        1.01180482e+01, -2.57098419e+01, -1.72391271e+01, -2.03005977e+01,\n",
       "       -3.55627463e+00, -1.15194804e+01, -1.40648944e+01,  1.00647144e+01,\n",
       "       -1.95006366e+01, -1.00710750e+01, -2.26865845e+00,  9.67064128e+00,\n",
       "        9.37902617e+00, -2.72106858e+01, -1.25101002e+01, -1.47450552e+01,\n",
       "       -1.22955985e+01,  9.70073110e+00, -1.28766791e+01,  2.10759435e+00,\n",
       "        9.12521209e-01,  9.68971685e+00, -7.77041667e+00,  7.74699024e+00,\n",
       "        8.66988586e+00, -1.04484473e+00, -1.04312919e+01, -1.71838170e+01,\n",
       "        3.56815975e+00,  4.68675238e+00, -1.42221359e+01,  6.09059641e+00,\n",
       "        9.45037561e+00,  6.64872864e+00, -2.86021378e+00,  7.20849097e+00,\n",
       "        8.46221931e+00, -1.56184408e+01, -1.83563317e+01,  8.61166625e+00,\n",
       "        9.57327767e+00,  7.47731021e+00, -1.14282383e+01,  4.89876589e+00,\n",
       "       -2.77483756e+01, -7.27202512e-01, -1.29554076e+01, -1.22808931e+01,\n",
       "        9.59136685e+00,  6.60802811e+00,  7.29371772e+00, -1.36326159e+01,\n",
       "       -1.00967321e+01,  2.12719999e+00,  2.49065143e-02, -1.03110762e+01,\n",
       "       -2.94268521e+01, -1.02209820e+01,  1.01018866e+01, -1.39869399e+00,\n",
       "       -1.20457071e+01,  6.81649036e+00, -1.07032022e+01, -1.30575886e+01,\n",
       "        1.65187705e+00,  5.92194219e+00, -1.53906596e+01, -1.08987126e+01,\n",
       "        8.15397021e+00,  1.00920121e+01,  9.17801940e+00, -1.01818048e+01,\n",
       "       -1.01032149e+01, -1.88445721e+01, -7.75789521e-01, -3.34082727e+00,\n",
       "        8.90957497e+00,  9.38223910e+00, -1.52470038e+01, -1.11992052e+01,\n",
       "       -5.03487492e+00, -1.47334159e+01,  2.84249861e+00, -1.20478531e+01,\n",
       "       -1.09309212e+01,  9.97435926e+00, -1.57631703e+01, -1.15800581e+01,\n",
       "       -2.02439576e+01, -1.00154164e+01, -1.06339934e+01, -3.22675221e+01,\n",
       "        1.00578985e+01, -1.02067876e+01, -1.70501849e+01,  5.35914307e+00,\n",
       "       -9.99674346e+00, -1.48457380e+01, -1.05650891e+01, -1.01486202e+01,\n",
       "       -1.28605951e+01, -1.00018911e+01, -1.23813048e+01,  4.07085688e+00,\n",
       "       -5.19215174e+01, -1.00022332e+01, -2.41641048e+01, -1.00967299e+01,\n",
       "       -3.01332641e+01,  9.01941147e+00, -1.35429954e+01, -1.02182663e+01,\n",
       "       -1.00124671e+01, -1.73909027e+01,  8.93791045e+00, -2.42006271e+01,\n",
       "       -1.46270200e+01,  3.23072215e+00,  7.44964894e+00,  7.38732417e+00,\n",
       "       -2.49560594e+01, -1.02811005e+01, -1.06675559e+01,  9.60759659e+00,\n",
       "        9.86109794e+00,  9.27909579e+00, -1.74083197e+01, -2.69659870e+01,\n",
       "       -1.75840369e+01,  9.96249352e+00, -1.00294153e+01,  5.82182218e+00,\n",
       "       -1.20686674e+01, -1.24473150e+01, -4.21264937e+01,  3.00054010e+00,\n",
       "        2.46473062e+00, -3.83685305e+00,  2.30019700e+00,  9.72209840e+00,\n",
       "        3.68100210e+00,  7.02997448e+00, -1.11428095e+01, -1.00706625e+01,\n",
       "       -1.42091133e+01,  9.45951577e+00,  9.27048487e+00,  9.60211461e+00,\n",
       "       -1.63913466e+01,  8.77613070e+00, -1.07721986e+01, -1.17773462e+01,\n",
       "       -1.38423941e+01, -1.33092830e+01, -1.15812025e+01,  6.80171577e+00,\n",
       "        1.00035244e+01,  9.97237834e+00, -3.90999564e+00,  2.25649156e+00,\n",
       "       -1.63174319e+01, -2.08300584e+01, -1.00269277e+01, -1.73084939e-02,\n",
       "        9.13893342e+00, -1.01373945e+01,  1.83376838e+00,  9.79632512e+00,\n",
       "        1.00999253e+01,  7.42743451e+00, -1.30971525e+01, -1.27762737e+01,\n",
       "        7.46565914e+00, -1.99918094e+01,  9.22478937e+00, -1.90224282e+01,\n",
       "       -1.13981402e+01, -1.46246785e+01,  2.88444891e+00, -1.85243142e+01,\n",
       "        6.78782090e+00, -1.91574176e+01,  9.51318863e+00, -6.48675936e+00,\n",
       "       -2.55237614e+01,  9.12268945e+00, -1.00041905e+01, -1.01087130e+01,\n",
       "       -1.35576257e+01,  8.08300725e+00,  6.04238731e+00,  9.34716761e+00,\n",
       "        1.00514058e+01, -1.32540619e+01, -2.00977012e+01, -1.12966659e+01,\n",
       "       -1.22807092e+01, -2.34889847e+00, -1.02459563e+01, -2.87378477e+01,\n",
       "        8.96023953e+00,  8.75206348e+00, -6.01729947e-01, -1.63418915e+01,\n",
       "       -1.20320399e+01,  7.60034856e+00, -2.81036852e+01,  9.93406972e+00,\n",
       "        7.85403808e-01, -1.09260860e+01, -1.46590193e+00,  9.38953468e+00,\n",
       "        9.11998156e+00,  5.41666783e+00,  7.28353631e+00,  9.30947303e+00,\n",
       "       -1.17472011e+01, -1.52978773e+01,  4.60110116e+00, -2.38957652e+01,\n",
       "       -1.08829821e+01, -2.31027229e+01, -2.12140047e+01, -1.21509944e+01,\n",
       "        9.89143344e+00, -9.99818791e+00, -1.01089014e+01, -1.93879748e+01,\n",
       "       -3.14247552e+01, -1.86152163e+01, -2.05741210e+01, -1.71559436e+01,\n",
       "        8.69116859e+00,  9.86435548e+00, -1.00653968e+01, -1.02258245e+01,\n",
       "       -1.00830052e+01,  6.77458232e+00,  8.62846063e+00, -1.00353000e+01,\n",
       "       -1.03290074e+01, -1.04777593e+01,  1.00208978e+01, -1.15227379e+01,\n",
       "        9.77792739e+00,  1.00918502e+01, -1.01987509e+01, -1.00996546e+01,\n",
       "       -1.05587022e+01,  9.98935627e+00,  9.87643979e+00, -1.89850990e+01,\n",
       "        8.15966796e+00, -2.63440816e+01, -1.50606914e+01,  7.39060870e+00,\n",
       "       -1.12378033e+01, -1.15662927e+01, -1.64590379e+01, -1.17091860e+01,\n",
       "        4.83984396e+00,  6.55242482e-01, -1.19307847e+01, -1.05146524e+01,\n",
       "       -1.03366964e+01, -1.22708587e+01, -3.46616013e+01, -1.17479851e+01,\n",
       "       -1.28460387e+01, -1.11909857e+01,  9.51527502e+00, -1.15323007e+01,\n",
       "       -1.04367910e+01, -1.01611882e+01,  5.55362886e+00, -1.09303927e+01,\n",
       "       -1.02001842e+01, -1.00066587e+01, -1.36230890e+01, -1.05761328e+01,\n",
       "        8.18370283e+00, -4.86387536e+00, -1.18031813e+01,  8.71566304e+00,\n",
       "        7.91813833e+00, -4.15600895e+00, -1.04856721e+01,  9.55244475e+00,\n",
       "       -1.00468597e+01,  1.00491477e+01, -1.54008529e+01,  9.67139457e+00,\n",
       "        9.48320425e+00,  8.93262752e+00,  1.00504554e+01, -2.39616914e+01,\n",
       "        8.17301010e+00, -5.59599023e+00,  9.00782184e+00,  1.00556517e+01,\n",
       "       -1.10851774e+01,  2.29286086e+00, -1.18834850e+01, -1.11011338e+01,\n",
       "        7.75725171e+00,  8.65414604e+00, -1.56434348e+01,  7.11004806e+00,\n",
       "       -2.25014124e+01,  8.98457965e+00, -2.75196301e+01, -1.05336967e+01,\n",
       "        9.12011050e+00, -7.06454359e+00,  3.93477730e+00,  9.04351423e+00,\n",
       "        8.22329093e+00,  4.57033703e+00,  1.00835731e+01,  9.12916712e+00,\n",
       "        6.32536305e+00,  8.66726948e+00,  7.19721891e+00,  9.54888171e+00,\n",
       "       -1.00568738e+01,  7.81075049e-01, -1.00602437e+01,  1.23502019e+00,\n",
       "       -1.03622631e+01, -1.05475067e+01, -3.41181372e+01,  3.88949572e+00,\n",
       "        1.00927409e+01,  3.04093502e+00, -1.02177301e+01, -1.12988318e+01,\n",
       "        9.23883346e+00,  1.00718054e+01,  9.13127008e+00, -7.90305794e+01,\n",
       "        1.00442944e+01, -1.04100858e+01,  9.46454102e+00,  4.81573975e+00,\n",
       "       -1.01577968e+01, -1.25042718e+01, -1.00059119e+01,  1.01057198e+01,\n",
       "        8.54655045e+00,  4.40605684e+00,  9.70843035e+00, -1.23340546e+01,\n",
       "        5.28231631e+00,  8.87353257e+00, -1.04060289e+01,  9.17180105e+00,\n",
       "       -1.98164244e+01, -2.00987854e+01,  8.24820606e+00,  3.54873355e+00,\n",
       "       -1.07472381e+01, -1.54685210e+01,  8.41979628e+00,  9.74744263e+00,\n",
       "       -1.27128595e+01,  7.28835511e+00,  9.47194069e+00, -1.44798197e+01,\n",
       "       -1.03870141e+01, -1.29763573e+01,  8.93159908e+00,  6.00407327e+00,\n",
       "        9.63992938e+00, -1.16845120e+01,  8.68422615e+00,  7.79933479e+00,\n",
       "       -1.08123010e+01,  5.85004627e+00, -1.16179462e+01, -9.99510455e+00,\n",
       "       -1.00880980e+01,  4.93146959e+00, -2.33338236e+01,  1.00210706e+01,\n",
       "        9.56116079e+00,  9.04171925e+00,  9.43963449e+00, -1.33301862e+01,\n",
       "       -1.48563168e+01, -1.68244306e+01,  1.01185817e+01, -1.49298243e+01,\n",
       "       -1.11385900e+01,  1.97610055e+00, -2.64070812e+01,  1.01164077e+01,\n",
       "       -1.02798474e+01,  9.30102513e+00, -1.12825791e+01,  7.50474444e+00,\n",
       "       -1.14355950e+01,  8.33042263e+00, -1.62549012e+01, -1.00576251e+01,\n",
       "       -1.95173857e+01,  9.72255380e+00, -1.32263351e+01, -6.27993585e+00,\n",
       "       -1.05090865e+01,  9.55196922e+00, -1.17902312e+01,  2.40195295e+00,\n",
       "       -1.43465598e+01, -5.06004389e+00, -1.18253504e+01, -1.45364388e+01,\n",
       "       -1.07320247e+01, -1.48924543e+01, -2.02906226e+01, -1.38849514e+01,\n",
       "        8.14578953e+00,  9.96354342e+00,  1.00305918e+01, -1.11246331e+01,\n",
       "        4.61535669e+00,  1.00609613e+01,  2.65520934e+00,  8.97163666e+00,\n",
       "       -1.70740702e+01, -1.25508973e+01, -2.05810513e+01,  5.50611837e+00,\n",
       "       -1.08493900e+01, -1.40778330e+01, -1.21650475e+01,  8.26405885e+00,\n",
       "       -1.27124704e+01,  9.22792716e+00, -1.00064239e+01,  1.00689424e+01,\n",
       "        7.87061695e+00, -1.77521645e+01, -1.06881211e+01,  4.31642474e+00,\n",
       "        1.00792474e+01,  9.11454867e+00,  9.86937636e+00, -1.18504761e+01,\n",
       "        1.00406928e+01, -1.06334124e+01, -1.27218994e+01,  7.91145696e+00,\n",
       "       -2.25891280e+01,  9.02135921e+00,  6.03916099e+00,  7.43484305e+00,\n",
       "        8.93400029e+00, -1.28896204e+01, -1.27755281e+01, -1.44523072e+01,\n",
       "       -1.32370323e+01,  8.96102596e+00, -1.02692229e+01, -1.26356790e+01,\n",
       "        1.00876179e+01,  9.80073021e+00, -9.99888458e+00, -1.25516062e+01,\n",
       "       -1.81868416e+01, -1.07560850e+01, -1.00242395e+01,  8.03852965e+00,\n",
       "       -1.02018139e+01,  9.10171091e+00, -1.10081049e+01, -1.20373820e+00,\n",
       "        9.85059898e+00, -1.03662514e+01, -2.79265783e+01, -1.23547364e+00,\n",
       "        8.45499773e+00,  4.12271847e+00, -1.01320677e+01,  1.00283293e+01,\n",
       "       -1.01199582e+01, -1.41728590e+01,  1.00846393e+01, -1.23665387e+01,\n",
       "        9.59813550e+00, -5.54163517e+01, -1.25989431e+01, -2.47714957e+01,\n",
       "       -2.13352100e+01, -1.15504627e+01,  9.71161706e+00, -1.08348358e+01,\n",
       "       -1.94955781e+01,  1.87742837e+00, -1.45148100e+01, -1.44203575e+01,\n",
       "        9.71623253e+00, -1.56185279e+01,  6.85443300e+00,  2.97218865e+00,\n",
       "        9.09770159e+00, -1.00087902e+01,  9.50596784e+00, -1.00352832e+01,\n",
       "       -1.12203928e+01,  1.00925840e+01,  3.24997838e+00, -1.03026194e+01,\n",
       "        9.47462080e+00,  9.84091286e+00, -1.31583057e+01,  4.88389827e+00,\n",
       "       -1.32756403e+01,  3.32384980e+00,  9.88604674e+00, -1.25253314e+01,\n",
       "       -1.00931231e+01, -1.90384293e+01,  7.72323720e+00, -2.58999136e+01,\n",
       "       -1.48025690e+01, -1.34845438e+01,  1.01148160e+01,  4.43521409e+00,\n",
       "        1.52976703e+00,  2.07946057e+00, -1.26345573e+01, -1.26961341e+01,\n",
       "       -7.38249532e-01, -9.99454497e+00,  7.18418894e+00, -1.39786521e+01,\n",
       "        1.69814388e-01, -1.04788139e+01, -1.13527758e+01, -3.31166417e+01,\n",
       "       -2.66338922e+01,  9.19607488e+00,  7.29902617e+00,  4.24861255e+00,\n",
       "        8.58185394e+00,  6.95837142e+00, -1.00059497e+01, -1.00672740e+01,\n",
       "       -1.04466632e+01, -1.28294501e+01,  9.60577184e+00, -2.06168869e+01,\n",
       "       -1.94427139e+01, -1.38977533e+01,  3.11407180e+00, -1.42985966e+01,\n",
       "       -1.29570042e+01, -1.07366750e+01, -1.00109644e+01,  8.99623034e+00,\n",
       "       -1.68480304e+01,  7.99211538e+00, -1.14881175e+01,  7.01164404e+00,\n",
       "        7.43174751e+00, -1.08008900e+01,  9.55467332e+00, -1.00543864e+01,\n",
       "        9.84720882e+00, -5.02780787e+01,  8.32550257e+00,  8.98163961e+00,\n",
       "       -1.27784872e+01,  1.00032695e+01, -1.04900222e+01,  7.42864750e+00,\n",
       "        7.33870171e+00, -1.79887519e+00, -1.86078051e+01,  9.66750053e+00,\n",
       "       -9.99761506e+00,  1.01172029e+01, -1.01362811e+01,  1.01141635e+01,\n",
       "        8.71914682e+00, -1.15345804e+01,  1.00288277e+01,  9.35636692e+00,\n",
       "       -1.14935496e+01, -1.49972967e+01, -1.02905960e+01,  8.05344881e-01,\n",
       "       -3.85727248e+01, -1.00037254e+01, -1.81197852e+01, -1.05034274e+01,\n",
       "       -1.15348040e+01,  9.68020001e+00,  3.53044850e+00, -9.23993921e+00,\n",
       "        9.35702406e+00, -3.70777863e+01,  5.16486188e+00,  6.67760439e+00,\n",
       "       -5.03562304e+00, -1.24212023e+01, -2.97123886e+01, -1.82428027e+01,\n",
       "       -1.11992738e+01,  4.00646661e+00, -1.94647433e+01, -3.82418174e+01,\n",
       "        3.68919931e+00,  2.65522927e+00, -4.12604661e+00,  8.98078936e+00,\n",
       "       -1.08467618e+01,  5.72122084e+00, -9.99354377e+00, -1.60006083e+01,\n",
       "        1.97697050e+00,  8.08270531e+00,  5.94917032e+00, -2.53105400e+01,\n",
       "       -1.49084221e+01, -1.00757694e+01, -1.73062136e+01,  7.65407105e+00,\n",
       "       -1.15114718e+01, -6.56776267e-01,  6.06777552e-01,  9.25091887e+00,\n",
       "       -1.28670004e+01,  4.92408946e+00,  9.76237847e+00,  9.87965910e+00,\n",
       "        3.39393967e+00, -1.26688827e+01,  3.94170596e+00, -1.01494317e+01,\n",
       "        8.88729845e+00, -1.65922940e+01,  5.39340391e+00,  6.33123883e+00,\n",
       "        4.95664648e-01,  8.14716436e+00, -1.03733961e+01,  3.29562574e+00,\n",
       "        9.87723003e+00, -6.64638550e+00, -1.99236015e+01, -1.02066671e+01,\n",
       "        9.95713647e+00, -1.69021197e+01,  5.52180329e+00,  1.78345941e+00,\n",
       "       -1.00844049e+01,  1.01196309e+01, -1.00346063e+01, -2.06639235e+01,\n",
       "        6.00771545e+00,  6.01504541e+00, -1.00787236e+01, -6.58741673e-01,\n",
       "       -1.34653040e+01, -1.07799506e+01,  1.27065821e+00, -1.08630549e+01,\n",
       "       -2.36970071e-01, -1.46125897e+01, -1.37922374e+01,  4.15965422e+00,\n",
       "       -1.29134537e+01,  5.58268078e+00,  8.71667922e+00,  9.02462435e+00,\n",
       "       -2.05889621e+01, -1.87820488e+01, -1.12262181e+01, -4.81035702e+01,\n",
       "        9.75923146e+00,  9.02357249e+00,  9.19179019e+00, -1.00777490e+01,\n",
       "       -7.52493882e-01, -1.33217445e+01,  6.32898616e+00, -1.00089912e+01,\n",
       "       -1.06114914e+01, -1.18706045e+01, -4.16039912e+01, -1.00054794e+01,\n",
       "       -1.00291542e+01, -1.49357838e+01, -1.59977744e+01,  7.08544838e+00,\n",
       "       -1.61720033e+01,  7.56697953e+00,  9.73060435e+00,  6.23247167e+00,\n",
       "       -1.26421190e+01, -1.03398787e+01,  4.71035471e+00, -1.32086584e+01,\n",
       "       -1.34912858e+01,  8.31849213e+00, -2.61523825e+01, -1.89351019e+01,\n",
       "        8.73144892e+00,  1.00632509e+01,  2.26173893e+00, -6.17078285e+00,\n",
       "       -1.03593672e+01, -1.08260728e+01, -4.10118557e+00,  5.17828695e+00,\n",
       "        7.43361892e+00,  9.85619180e+00,  9.69445861e-01, -1.11683174e+01,\n",
       "        8.43876051e+00,  9.18498185e+00, -1.28300187e+01,  9.37406202e+00,\n",
       "        4.26859247e+00,  9.68225786e+00, -1.00746800e+01,  4.90633664e+00,\n",
       "        5.12395225e+00, -1.09407624e+01, -1.59597419e+01, -2.41383694e+01,\n",
       "       -9.99595632e+00,  7.23341018e+00,  9.88029603e+00, -9.99996016e+00,\n",
       "        1.00833899e+01,  8.26450979e+00,  7.22969645e+00,  1.01208555e+01,\n",
       "       -2.24629957e+01, -1.09328454e+01,  7.18584614e-01, -1.26723306e+01,\n",
       "       -1.43557156e+01, -4.61406275e+01,  9.80239209e+00,  2.99116919e-01,\n",
       "       -1.59299036e+01,  7.65134463e+00,  1.01205321e+01, -2.00451149e+01,\n",
       "       -1.17574727e+01, -1.08019458e+01,  4.51958928e-01, -1.01755692e+01,\n",
       "       -1.30491601e+01,  9.83733577e+00, -3.30160147e+01,  8.75592386e+00,\n",
       "        2.37869605e+00,  4.75397527e+00, -1.01022271e+01,  9.31239595e+00,\n",
       "       -1.13874922e+01, -1.00090124e+01, -1.83135418e+01,  4.71845969e+00,\n",
       "        9.37771106e+00, -1.81129979e+01, -2.01588286e+01,  9.54111024e+00,\n",
       "        7.44522942e+00,  9.08821854e+00,  7.33489089e+00,  9.91494454e+00,\n",
       "       -1.55408523e+01,  6.79952972e+00, -1.33076222e+01, -1.36098334e+01,\n",
       "       -1.34058392e+01,  9.98503887e+00, -2.17250318e+01,  4.66696690e+00,\n",
       "        5.92772334e+00, -2.33260481e+00, -1.38685846e+01,  2.00022313e+00,\n",
       "       -1.02478558e+01,  5.09818348e+00,  1.00914332e+01,  6.76867027e+00,\n",
       "        6.93873823e+00,  9.20425370e+00, -1.03627652e+01,  6.15440276e+00,\n",
       "        9.53864822e+00, -1.00565322e+01,  9.34335874e+00,  7.33572519e+00,\n",
       "        4.09570871e+00,  1.01089062e+01, -1.44226294e+01,  7.07598676e+00,\n",
       "       -5.00377775e+00, -2.55196189e+01, -1.10002088e+01,  9.97298181e+00,\n",
       "        8.15929047e+00, -9.99504322e+00,  3.15032628e+00, -1.09066615e+01,\n",
       "       -2.82661531e+00, -1.54408782e+01, -2.78693174e+01, -2.00866985e+01,\n",
       "       -7.16228568e+00,  3.44090773e+00, -1.43599572e+01, -9.60553609e+00,\n",
       "       -7.08670076e-01,  9.99789181e+00, -1.00518926e+01, -1.07769017e+01,\n",
       "       -1.68717771e+01, -1.09695775e+01,  1.25466833e+00,  9.24930062e+00,\n",
       "        5.76690599e+00,  8.22918868e+00, -1.21015834e+01, -1.39382731e+01,\n",
       "       -1.46993484e+01, -2.54944100e+01, -1.37567289e+01,  7.32066639e+00,\n",
       "       -9.99762064e+00, -1.33932270e+01, -1.13964939e+01, -1.07149849e+01,\n",
       "       -1.13038765e+01, -3.50940107e+01, -1.06143781e+01,  7.70614285e-01,\n",
       "        8.62841162e+00, -2.22288974e+01, -1.18461645e+01, -1.10925322e+01,\n",
       "       -1.38806905e+01,  2.87589344e-02,  9.68293988e+00, -1.26573396e+01,\n",
       "        6.96813642e+00, -1.08148665e+01, -7.14239193e+00, -2.72236777e+00,\n",
       "       -1.02060285e+01,  9.98052541e+00, -2.21002408e+01,  8.42136728e-01,\n",
       "       -1.00435886e+01, -1.03310622e+01, -1.00185932e+01,  6.52955102e+00,\n",
       "        2.62943641e+00,  3.18966694e+00, -1.01593555e+01, -8.92145109e-01,\n",
       "       -1.62828919e+01, -1.04699584e+01, -1.44452758e+01,  5.21400249e+00,\n",
       "        9.91877441e+00,  5.87113050e+00, -7.77659244e+00, -1.60003382e+01,\n",
       "        9.99743838e+00,  3.46615918e+00, -5.65656340e-01,  2.48623433e+00,\n",
       "       -1.50240199e+01,  8.92575399e+00, -1.11025096e+01, -1.98880961e+01,\n",
       "        6.98226972e+00, -1.18598153e+00,  9.20617166e+00,  7.09898864e+00,\n",
       "       -9.99978503e+00, -1.71734554e+01, -1.01894789e+01, -1.02522313e+01,\n",
       "       -1.36270360e+01,  1.00700791e+01, -1.45602270e+01, -2.97599917e+01,\n",
       "        7.32357361e+00, -7.74676096e+00, -2.32619728e+01, -1.06650042e+01,\n",
       "        7.08067291e+00, -6.91606051e-02, -1.23608303e+01,  6.26481771e-01,\n",
       "       -1.72807417e+01, -1.18820445e+01, -1.01094971e+01,  9.86981746e+00,\n",
       "       -2.98929324e+01,  1.01191766e+01,  8.50965674e+00, -1.00358232e+01,\n",
       "        5.99386245e-01,  9.70529682e+00,  5.96568382e+00, -1.22418540e+01,\n",
       "       -2.95024871e+00, -1.32704837e+01,  8.73532591e+00, -1.40483096e+01,\n",
       "       -9.99363478e+00, -4.95811032e+01,  7.59048094e+00,  6.41397216e+00,\n",
       "       -1.08509837e+01,  3.65513713e+00,  1.00965394e+01, -1.01913030e+01,\n",
       "        1.00400679e+01, -1.57280888e+01, -1.00332343e+01,  9.63725063e+00,\n",
       "       -1.74185066e+01,  8.61025636e+00, -1.38550325e+01, -7.67528842e+00,\n",
       "       -1.31817264e+01,  1.00356497e+01, -1.24730645e+01, -1.13178028e+01,\n",
       "       -1.89784455e+01, -1.10661419e+01, -2.60543769e+01,  5.33730717e+00,\n",
       "        4.48638374e+00, -1.80709371e+01,  9.70299597e+00, -1.33265095e+01,\n",
       "       -2.26356088e+01, -1.04321328e+01, -1.63747931e+01, -1.00443487e+01,\n",
       "        5.07609865e+00,  9.60182109e+00,  9.81680237e+00, -1.17093141e+01,\n",
       "       -1.35700994e+00, -1.25657452e+01, -1.18632435e+01, -1.03078570e+01,\n",
       "       -1.31105334e+01,  6.99821110e+00,  8.94841407e+00, -1.07974867e+01,\n",
       "        9.50315822e+00, -1.50394402e+01,  1.00650368e+01,  6.49696003e+00,\n",
       "        9.31080253e+00, -1.17715303e+01,  1.00357809e+01, -2.65330179e+01,\n",
       "        9.76144215e+00, -1.80961524e+01,  7.71076909e+00, -1.77201756e+01,\n",
       "        9.77990779e+00,  6.96321164e+00, -1.05488521e+01,  7.79158863e+00])"
      ]
     },
     "execution_count": 12,
     "metadata": {},
     "output_type": "execute_result"
    }
   ],
   "source": [
    "y_hat = X_b.dot(w_estimate)\n",
    "y_hat"
   ]
  },
  {
   "cell_type": "code",
   "execution_count": 13,
   "id": "31e3739c",
   "metadata": {},
   "outputs": [
    {
     "data": {
      "image/png": "[encoded data removed]",
      "text/plain": [
       "<Figure size 720x360 with 1 Axes>"
      ]
     },
     "metadata": {
      "needs_background": "light"
     },
     "output_type": "display_data"
    }
   ],
   "source": [
    "plt.figure(figsize=(10, 5))\n",
    "plt.scatter(X, y, s = 1)\n",
    "plt.scatter(X, y_hat, s = 1, color='lime')\n",
    "plt.title('Blue is the original data y, green is the regression result y_hat')\n",
    "plt.xlabel('X', fontsize=16)\n",
    "plt.ylabel('y', fontsize=16)\n",
    "plt.grid(True)\n",
    "plt.show()"
   ]
  },
  {
   "cell_type": "markdown",
   "id": "fe56c68d",
   "metadata": {},
   "source": [
    "\n",
    "# Forward Selection"
   ]
  },
  {
   "cell_type": "markdown",
   "id": "1f47b082",
   "metadata": {},
   "source": [
    "#### I know that my forward selection algorithm doesnt working well. But I understand its working principle."
   ]
  },
  {
   "cell_type": "code",
   "execution_count": 14,
   "id": "960523be",
   "metadata": {},
   "outputs": [
    {
     "name": "stderr",
     "output_type": "stream",
     "text": [
      "C:\\Users\\Gold-S\\anaconda3\\lib\\site-packages\\sklearn\\naive_bayes.py:452: RuntimeWarning: divide by zero encountered in log\n",
      "  n_ij = - 0.5 * np.sum(np.log(2. * np.pi * self.sigma_[i, :]))\n",
      "C:\\Users\\Gold-S\\anaconda3\\lib\\site-packages\\sklearn\\naive_bayes.py:453: RuntimeWarning: invalid value encountered in true_divide\n",
      "  n_ij -= 0.5 * np.sum(((X - self.theta_[i, :]) ** 2) /\n",
      "<ipython-input-14-b8aea718cffe>:29: DeprecationWarning: The truth value of an empty array is ambiguous. Returning False, but in future this will result in an error. Use `array.size > 0` to check that an array is not empty.\n",
      "  if functools.reduce(lambda a, b : a and b, map(lambda p, q: p == q,m,xArray[0:1000,j:j+1]), True):\n"
     ]
    },
    {
     "name": "stdout",
     "output_type": "stream",
     "text": [
      "i:0\n",
      "0.5366666666666666\n",
      "i:1\n",
      "0\n",
      "i:2\n",
      "0\n",
      "i:3\n",
      "0\n",
      "i:4\n",
      "0\n",
      "i:5\n",
      "0\n",
      "i:6\n",
      "0\n",
      "i:7\n",
      "0\n",
      "i:8\n",
      "0\n",
      "i:9\n",
      "0\n",
      "[0.5366666666666666, 0, 0, 0, 0, 0, 0, 0, 0, 0]\n"
     ]
    }
   ],
   "source": [
    "# importing libraries\n",
    "from sklearn.model_selection import train_test_split\n",
    "from sklearn.naive_bayes import GaussianNB\n",
    "from sklearn.metrics import accuracy_score\n",
    "import functools \n",
    "\n",
    "y = y.astype('int')\n",
    "X = X.astype('int')\n",
    "\n",
    "M_array = [] # M_array holds step by step selected features \n",
    "             # M0={}, M1={selected feature that highest accuracy among possible 10 features}\n",
    "             # M2=M1 U {selected feature that have highest accuracy with M1, among possible remaining 9 features}\n",
    "             # M3=M2 U {..}    It goes like that until M10. M10 contains all features.\n",
    "scores = [] # holds M_array (M0, M1, ..) performances\n",
    "\n",
    "for i in range(10): # i should go to 0 to 10 (len(xArray))\n",
    "    \n",
    "    innerBestScore = 0 # best score for M_array (M0, M1, ...)\n",
    "    innerBestVariable = np.ones((len(X),1)) # best variable for M_array (M0, M1, ...)\n",
    "    \n",
    "    for j in range(0, 10-i): # in each step, we selected 1 new feature and we dont want to visit selected features\n",
    "                             # calculating number of accurracies goes like 10, 9, 8, ..., 0)\n",
    "        \n",
    "        flag = 0     # searhed feature is not in the M_array, we can calculate its accurracy\n",
    "        \n",
    "        for k in range(0, len(M_array)):\n",
    "            if len(M_array) != 0:              \n",
    "                m = xArray[0:1000,k:k+1]\n",
    "                if functools.reduce(lambda a, b : a and b, map(lambda p, q: p == q,m,xArray[0:1000,j:j+1]), True):\n",
    "                    flag = 1   # j.th feature is in the M_array\n",
    "                \n",
    "        if flag == 0:\n",
    "            if len(M_array) != 0:\n",
    "                X_train, X_test, y_train, y_test = train_test_split(np.c_[M_array, xArray[0:1000,j:j+1]] , y, test_size=0.3, random_state=123) \n",
    "            else: \n",
    "                X_train, X_test, y_train, y_test = train_test_split(xArray[0:1000,j:j+1] , y, test_size=0.3, random_state=123) \n",
    "                \n",
    "            #calculating highest accuracy in M_array     \n",
    "            nb = GaussianNB()\n",
    "            nb.fit(X_train, y_train)\n",
    "            y_pred = nb.predict(X_test)\n",
    "            accuracy = accuracy_score(y_test, y_pred)\n",
    "            if(accuracy > innerBestScore):\n",
    "                innerBestScore = accuracy\n",
    "                innerBestVariable = xArray[0:1000,j:j+1]\n",
    "                \n",
    "    \n",
    "    if len(M_array) != 0:\n",
    "        np.c_[M_array, innerBestVariable]\n",
    "    else:\n",
    "        M_array = innerBestVariable\n",
    "\n",
    "    print(\"i:\" + str(i))\n",
    "    print(innerBestScore)\n",
    "    \n",
    "    scores.append(innerBestScore)\n",
    "    #if len(scores) != 0:\n",
    "     #   np.c_[scores, innerBestScore]\n",
    "    #else:\n",
    "    #    scores = innerBestScore\n",
    "\n",
    "print(scores)"
   ]
  },
  {
   "cell_type": "markdown",
   "id": "0a74ab1b",
   "metadata": {},
   "source": [
    "# LASSO Regression Test"
   ]
  },
  {
   "cell_type": "code",
   "execution_count": 15,
   "id": "e30d1c6b",
   "metadata": {},
   "outputs": [],
   "source": [
    "import warnings\n",
    "\n",
    "warnings.filterwarnings('ignore')"
   ]
  },
  {
   "cell_type": "code",
   "execution_count": 16,
   "id": "c3f0d6b8",
   "metadata": {},
   "outputs": [],
   "source": [
    "# Find LASSO paths (LASSO coeffections for different alpha values)\n",
    "n_alphas = 50\n",
    "lasso_alphas = np.linspace(1, 100, n_alphas)\n",
    "\n",
    "X_new = StandardScaler().fit_transform(X)\n",
    "\n",
    "lasso_coefs = []\n",
    "for a in lasso_alphas:\n",
    "    lasso = linear_model.Lasso(alpha=a, fit_intercept=True, max_iter=10000)\n",
    "    lasso.fit(X_new, y)\n",
    "    lasso_coefs.append(lasso.coef_)"
   ]
  },
  {
   "cell_type": "code",
   "execution_count": 17,
   "id": "c7165d46",
   "metadata": {},
   "outputs": [
    {
     "data": {
      "image/png": "[encoded data removed]",
      "text/plain": [
       "<Figure size 576x432 with 1 Axes>"
      ]
     },
     "metadata": {
      "needs_background": "light"
     },
     "output_type": "display_data"
    }
   ],
   "source": [
    "# Show LASSO paths   \n",
    "plt.figure(2, figsize=(8,6))    \n",
    "plt.plot(lasso_alphas, lasso_coefs)\n",
    "plt.xlabel('alpha')\n",
    "plt.ylabel('weights')\n",
    "plt.title('LASSO coefficients as a function of the regularization')\n",
    "plt.grid()\n",
    "plt.show()"
   ]
  },
  {
   "cell_type": "code",
   "execution_count": 18,
   "id": "d8605bd4",
   "metadata": {},
   "outputs": [
    {
     "name": "stdout",
     "output_type": "stream",
     "text": [
      "LASSO coefficients for alpha = 0.01\n",
      "[4.80394147]\n",
      "\n",
      "LASSO coefficients for alpha = 0.1\n",
      "[4.71394147]\n",
      "\n",
      "LASSO coefficients for alpha = 10\n",
      "[0.]\n",
      "\n",
      "LASSO coefficients for alpha = 15\n",
      "[0.]\n",
      "\n",
      "LASSO coefficients for alpha = 25\n",
      "[0.]\n",
      "\n",
      "LASSO coefficients for alpha = 30\n",
      "[0.]\n",
      "\n",
      "LASSO coefficients for alpha = 45\n",
      "[0.]\n",
      "\n"
     ]
    }
   ],
   "source": [
    "# LASSO regression for different alpha values\n",
    "alphas = [0.01, 0.1, 10, 15, 25, 30, 45]\n",
    "for a in alphas:\n",
    "    lasso = linear_model.Lasso(alpha=a, fit_intercept=True, max_iter=10000)\n",
    "    lasso.fit(X_new, y)\n",
    "\n",
    "    print('LASSO coefficients for alpha =', a)\n",
    "    print(lasso.coef_)\n",
    "    print()"
   ]
  },
  {
   "cell_type": "markdown",
   "id": "b5c9c43d",
   "metadata": {},
   "source": [
    "# Choosing best alpha for LASSO \n",
    "(Model Selection with K-Fold Cross Validation)"
   ]
  },
  {
   "cell_type": "code",
   "execution_count": 19,
   "id": "601ce80c",
   "metadata": {},
   "outputs": [
    {
     "data": {
      "text/plain": [
       "(1000, 10)"
      ]
     },
     "execution_count": 19,
     "metadata": {},
     "output_type": "execute_result"
    }
   ],
   "source": [
    "xArray.shape"
   ]
  },
  {
   "cell_type": "code",
   "execution_count": 20,
   "id": "790aaeb5",
   "metadata": {},
   "outputs": [
    {
     "name": "stdout",
     "output_type": "stream",
     "text": [
      "Best alpha =  0.5\n",
      "\n",
      "Best coefficients =  [ 0.          0.         -6.40249545  0.         -0.         -0.\n",
      "  9.12007513  0.          0.         -0.        ]\n",
      "\n",
      "Best R^2 score =  0.8427747986779416\n",
      "\n"
     ]
    }
   ],
   "source": [
    "from sklearn.linear_model import LassoCV\n",
    "\n",
    "# use 10 fold cross-validation to find best alpha\n",
    "n_alphas = 100\n",
    "lasso_alphas = np.linspace(0.5, 40, n_alphas)\n",
    "\n",
    "X_new = StandardScaler().fit_transform(xArray)\n",
    "\n",
    "foldCount = 10\n",
    "lassocv = LassoCV(cv=foldCount, alphas=lasso_alphas, fit_intercept=False, max_iter=10000, random_state=0)\n",
    "lassocv.fit(X_new, y)\n",
    "\n",
    "# show best result\n",
    "print('Best alpha = ', lassocv.alpha_)\n",
    "print()\n",
    "\n",
    "print('Best coefficients = ', lassocv.coef_)  # we should choose X**2 and sign(x) features\n",
    "print()\n",
    "\n",
    "print('Best R^2 score = ', lassocv.score(X_new, y))\n",
    "print()"
   ]
  },
  {
   "cell_type": "code",
   "execution_count": 21,
   "id": "4f591e4c",
   "metadata": {},
   "outputs": [],
   "source": [
    "coef = lassocv.coef_[[2,6]]\n",
    "coef = coef[:,np.newaxis]\n",
    "\n",
    "X_reduced = xArray[:,[2,6]]\n",
    "y_pred = X_reduced.dot(coef)"
   ]
  },
  {
   "cell_type": "code",
   "execution_count": null,
   "id": "9438218f",
   "metadata": {},
   "outputs": [],
   "source": []
  }
 ],
 "metadata": {
  "kernelspec": {
   "display_name": "Python 3",
   "language": "python",
   "name": "python3"
  },
  "language_info": {
   "codemirror_mode": {
    "name": "ipython",
    "version": 3
   },
   "file_extension": ".py",
   "mimetype": "text/x-python",
   "name": "python",
   "nbconvert_exporter": "python",
   "pygments_lexer": "ipython3",
   "version": "3.8.8"
  }
 },
 "nbformat": 4,
 "nbformat_minor": 5
}
